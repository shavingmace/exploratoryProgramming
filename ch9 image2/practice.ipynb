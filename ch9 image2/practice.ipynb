{
 "cells": [
  {
   "cell_type": "code",
   "execution_count": 7,
   "metadata": {},
   "outputs": [],
   "source": [
    "def nearby(img, x, y):\n",
    "    around = 0\n",
    "    for c in [0, 1, 2]:\n",
    "        around = around + \\\n",
    "        img.getpixel((x - 1, y - 1))[c] + \\\n",
    "        img.getpixel((x, y - 1))[c] + \\\n",
    "        img.getpixel((x + 1, y - 1))[c] + \\\n",
    "        img.getpixel((x - 1, y))[c] + \\\n",
    "        img.getpixel((x + 1, y))[c] + \\\n",
    "        img.getpixel((x - 1, y + 1))[c] + \\\n",
    "        img.getpixel((x, y + 1))[c] + \\\n",
    "        img.getpixel((x + 1, y + 1))[c]\n",
    "    return around / 24.0"
   ]
  },
  {
   "cell_type": "code",
   "execution_count": 8,
   "metadata": {},
   "outputs": [],
   "source": [
    "def differ(img, x, y):\n",
    "    current = 0\n",
    "    around = 0\n",
    "    for c in [0, 1, 2]:\n",
    "        current = current + img.getpixel((x, y))[c]\n",
    "        around = around + \\\n",
    "        img.getpixel((x - 1, y - 1))[c] + \\\n",
    "        img.getpixel((x, y - 1))[c] + \\\n",
    "        img.getpixel((x + 1, y - 1))[c] + \\\n",
    "        img.getpixel((x - 1, y))[c] + \\\n",
    "        img.getpixel((x + 1, y))[c] + \\\n",
    "        img.getpixel((x - 1, y + 1))[c] + \\\n",
    "        img.getpixel((x, y + 1))[c] + \\\n",
    "        img.getpixel((x + 1, y + 1))[c]\n",
    "    return (around / 24.0) - (current / 3.0)"
   ]
  },
  {
   "cell_type": "code",
   "execution_count": 9,
   "metadata": {},
   "outputs": [],
   "source": [
    "from PIL import Image"
   ]
  },
  {
   "cell_type": "code",
   "execution_count": 10,
   "metadata": {},
   "outputs": [],
   "source": [
    "myImage = Image.open(\"sample.jpg\")"
   ]
  },
  {
   "cell_type": "code",
   "execution_count": 11,
   "metadata": {},
   "outputs": [
    {
     "data": {
      "text/plain": [
       "165.5"
      ]
     },
     "execution_count": 11,
     "metadata": {},
     "output_type": "execute_result"
    }
   ],
   "source": [
    "nearby(myImage, 1, 3)"
   ]
  },
  {
   "cell_type": "code",
   "execution_count": 13,
   "metadata": {},
   "outputs": [
    {
     "data": {
      "text/plain": [
       "177"
      ]
     },
     "execution_count": 13,
     "metadata": {},
     "output_type": "execute_result"
    }
   ],
   "source": [
    "#해당 픽셀의 R을 가져옴\n",
    "myImage.getpixel((1, 2))[0]"
   ]
  },
  {
   "cell_type": "code",
   "execution_count": 14,
   "metadata": {},
   "outputs": [
    {
     "data": {
      "text/plain": [
       "178"
      ]
     },
     "execution_count": 14,
     "metadata": {},
     "output_type": "execute_result"
    }
   ],
   "source": [
    "#해당 픽셀의 G을 가져옴\n",
    "myImage.getpixel((1, 2))[1]"
   ]
  },
  {
   "cell_type": "code",
   "execution_count": 15,
   "metadata": {},
   "outputs": [
    {
     "data": {
      "text/plain": [
       "144"
      ]
     },
     "execution_count": 15,
     "metadata": {},
     "output_type": "execute_result"
    }
   ],
   "source": [
    "#해당 픽셀의 B을 가져옴\n",
    "myImage.getpixel((1, 2))[2]"
   ]
  },
  {
   "cell_type": "code",
   "execution_count": 54,
   "metadata": {},
   "outputs": [],
   "source": [
    "def blur(img):\n",
    "    blurred = Image.new('RGB', img.size, 'white')\n",
    "    for x in range(2, img.size[0]-1):\n",
    "        for y in range(2, img.size[1]-1): \n",
    "            rgb = {}\n",
    "            rgb[0] = img.getpixel((x, y))[0]\n",
    "            rgb[1] = img.getpixel((x, y))[1]\n",
    "            rgb[2] = img.getpixel((x, y))[2]\n",
    "            change = differ(img, x, y) / 2\n",
    "            change = int(round(change))\n",
    "            blurred.putpixel((x, y), (rgb[0] + change, rgb[1] + change, rgb[2] + change))\n",
    "    return blurred"
   ]
  },
  {
   "cell_type": "code",
   "execution_count": 55,
   "metadata": {},
   "outputs": [],
   "source": [
    "blurred = blur(myImage)\n",
    "blurred.save(\"myBlurredImage.png\")"
   ]
  },
  {
   "cell_type": "code",
   "execution_count": null,
   "metadata": {},
   "outputs": [],
   "source": []
  }
 ],
 "metadata": {
  "kernelspec": {
   "display_name": "Python 3",
   "language": "python",
   "name": "python3"
  },
  "language_info": {
   "codemirror_mode": {
    "name": "ipython",
    "version": 3
   },
   "file_extension": ".py",
   "mimetype": "text/x-python",
   "name": "python",
   "nbconvert_exporter": "python",
   "pygments_lexer": "ipython3",
   "version": "3.6.4"
  }
 },
 "nbformat": 4,
 "nbformat_minor": 2
}
